{
 "cells": [
  {
   "cell_type": "code",
   "execution_count": 14,
   "metadata": {},
   "outputs": [
    {
     "name": "stdout",
     "output_type": "stream",
     "text": [
      "Bubble Sorted array:\n",
      "11 12 22 25 34 64 90 \n",
      "\n",
      "Insertion Sorted array:\n",
      "11 12 22 34 35 90 94 \n",
      "\n",
      "Insertion Sorted array:\n",
      "11 12 34 90 194 222 315 "
     ]
    }
   ],
   "source": [
    "def bubbleSort(arr):\n",
    "    n = len(arr)\n",
    "    for i in range(n):\n",
    "        swapped = False\n",
    "        for j in range(n-i-1):\n",
    "            if arr[j] > arr[j+1]:\n",
    "                arr[j], arr[j+1] = arr[j+1], arr[j]\n",
    "                swapped = True\n",
    "        if swapped == False:\n",
    "            break\n",
    "            \n",
    "def insertionSort(arr):\n",
    "    for i in range(1, len(arr)):\n",
    "        key = arr[i]\n",
    "        j = i-1\n",
    "        while j >= 0 and key < arr[j] :\n",
    "            arr[j + 1] = arr[j]\n",
    "            j -= 1\n",
    "        arr[j + 1] = key\n",
    "        \n",
    "def selectionSort(arr):    \n",
    "    for i in range(len(arr)):\n",
    "        min_idx = i\n",
    "        for j in range(i+1, len(arr)):\n",
    "            if arr[min_idx] > arr[j]:\n",
    "                min_idx = j   \n",
    "        arr[i], arr[min_idx] = arr[min_idx], arr[i]\n",
    "            \n",
    "arr = [64, 34, 25, 12, 22, 11, 90]\n",
    "bubbleSort(arr)\n",
    "print(\"Bubble Sorted array:\")\n",
    "for i in range(len(arr)):\n",
    "    print(arr[i], end=\" \")\n",
    "\n",
    "arr = [94, 34, 35, 12, 22, 11, 90]\n",
    "insertionSort(arr)\n",
    "print(\"\\n\\nInsertion Sorted array:\")\n",
    "for i in range(len(arr)):\n",
    "    print (arr[i], end=\" \")\n",
    "    \n",
    "arr = [194, 34, 315, 12, 222, 11, 90]\n",
    "selectionSort(arr)\n",
    "print(\"\\n\\nInsertion Sorted array:\")\n",
    "for i in range(len(arr)):\n",
    "    print (arr[i], end=\" \")"
   ]
  },
  {
   "cell_type": "code",
   "execution_count": null,
   "metadata": {},
   "outputs": [],
   "source": []
  }
 ],
 "metadata": {
  "kernelspec": {
   "display_name": "Python 3",
   "language": "python",
   "name": "python3"
  },
  "language_info": {
   "codemirror_mode": {
    "name": "ipython",
    "version": 3
   },
   "file_extension": ".py",
   "mimetype": "text/x-python",
   "name": "python",
   "nbconvert_exporter": "python",
   "pygments_lexer": "ipython3",
   "version": "3.7.3"
  }
 },
 "nbformat": 4,
 "nbformat_minor": 2
}
